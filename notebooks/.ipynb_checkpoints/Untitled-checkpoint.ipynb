{
 "cells": [
  {
   "cell_type": "code",
   "execution_count": 2,
   "id": "751ff7ce-1fe4-42ed-8161-3ebd8d0ed9c1",
   "metadata": {},
   "outputs": [],
   "source": [
    "import pandas as pd"
   ]
  },
  {
   "cell_type": "code",
   "execution_count": 3,
   "id": "1ea700f4-1c1f-43ee-81bf-7040f5e6ad72",
   "metadata": {},
   "outputs": [
    {
     "name": "stdout",
     "output_type": "stream",
     "text": [
      "Reading from: https://github.com/DataTalksClub/nyc-tlc-data/releases/download/fhv/fhv_tripdata_2019-01.csv.gz\n",
      "Number of rows after appending 2019-01: 23143222\n",
      "--------------------------------------------------\n",
      "Reading from: https://github.com/DataTalksClub/nyc-tlc-data/releases/download/fhv/fhv_tripdata_2019-02.csv.gz\n",
      "Number of rows after appending 2019-02: 24850871\n",
      "--------------------------------------------------\n",
      "Reading from: https://github.com/DataTalksClub/nyc-tlc-data/releases/download/fhv/fhv_tripdata_2019-03.csv.gz\n",
      "Number of rows after appending 2019-03: 26326435\n",
      "--------------------------------------------------\n",
      "Reading from: https://github.com/DataTalksClub/nyc-tlc-data/releases/download/fhv/fhv_tripdata_2019-04.csv.gz\n",
      "Number of rows after appending 2019-04: 28264279\n",
      "--------------------------------------------------\n",
      "Reading from: https://github.com/DataTalksClub/nyc-tlc-data/releases/download/fhv/fhv_tripdata_2019-05.csv.gz\n",
      "Number of rows after appending 2019-05: 30337324\n",
      "--------------------------------------------------\n",
      "Reading from: https://github.com/DataTalksClub/nyc-tlc-data/releases/download/fhv/fhv_tripdata_2019-06.csv.gz\n",
      "Number of rows after appending 2019-06: 32347210\n",
      "--------------------------------------------------\n",
      "Reading from: https://github.com/DataTalksClub/nyc-tlc-data/releases/download/fhv/fhv_tripdata_2019-07.csv.gz\n",
      "Number of rows after appending 2019-07: 34294949\n",
      "--------------------------------------------------\n",
      "Reading from: https://github.com/DataTalksClub/nyc-tlc-data/releases/download/fhv/fhv_tripdata_2019-08.csv.gz\n",
      "Number of rows after appending 2019-08: 36175356\n",
      "--------------------------------------------------\n",
      "Reading from: https://github.com/DataTalksClub/nyc-tlc-data/releases/download/fhv/fhv_tripdata_2019-09.csv.gz\n",
      "Number of rows after appending 2019-09: 37423870\n",
      "--------------------------------------------------\n",
      "Reading from: https://github.com/DataTalksClub/nyc-tlc-data/releases/download/fhv/fhv_tripdata_2019-10.csv.gz\n",
      "Number of rows after appending 2019-10: 39321363\n",
      "--------------------------------------------------\n",
      "Reading from: https://github.com/DataTalksClub/nyc-tlc-data/releases/download/fhv/fhv_tripdata_2019-11.csv.gz\n",
      "Number of rows after appending 2019-11: 41200500\n",
      "--------------------------------------------------\n",
      "Reading from: https://github.com/DataTalksClub/nyc-tlc-data/releases/download/fhv/fhv_tripdata_2019-12.csv.gz\n",
      "Number of rows after appending 2019-12: 43244696\n",
      "--------------------------------------------------\n"
     ]
    }
   ],
   "source": [
    "# import io\n",
    "# import pandas as pd\n",
    "# import requests\n",
    "# if 'data_loader' not in globals():\n",
    "#     from mage_ai.data_preparation.decorators import data_loader\n",
    "# if 'test' not in globals():\n",
    "#     from mage_ai.data_preparation.decorators import test\n",
    "\n",
    "\n",
    "# @data_loader\n",
    "# def load_data_from_api(*args, **kwargs):\n",
    "#     \"\"\"\n",
    "#     Template for loading data from API\n",
    "#     \"\"\"\n",
    "url_base = 'https://github.com/DataTalksClub/nyc-tlc-data/releases/download/fhv/fhv_tripdata_'\n",
    "month = '2019-01'\n",
    "extension = '.csv.gz'\n",
    "\n",
    "url = url_base + month + extension\n",
    "\n",
    "months = ['2019-02', '2019-03', '2019-04', '2019-05', '2019-06', \n",
    "        '2019-07', '2019-08', '2019-09', '2019-10', '2019-11', '2019-12']\n",
    "\n",
    "taxi_dtypes = {\n",
    "    # 'VendorID': pd.Int64Dtype(),\n",
    "    # 'passenger_count': pd.Int64Dtype(),\n",
    "    # 'trip_distance': float,\n",
    "    # 'RatecodeID': pd.Int64Dtype(),\n",
    "    # 'store_and_fwd_flag': str,\n",
    "    'PULocationID': pd.Int64Dtype(),\n",
    "    'DOLocationID': pd.Int64Dtype(),\n",
    "    # 'payment_type': pd.Int64Dtype(),\n",
    "    # 'fare_amount': float,\n",
    "    # 'extra': float,\n",
    "    # 'mta_tax': float,\n",
    "    # 'tip_amount': float,\n",
    "    # 'tolls_amount': float,\n",
    "    # 'improvement_surcharge': float,\n",
    "    # 'total_amount': float,\n",
    "    # 'congestion_surcharge': float \n",
    "}\n",
    "\n",
    "parse_dates = ['pickup_datetime', 'dropOff_datetime']\n",
    "\n",
    "print(f'Reading from: {url}')\n",
    "df = pd.read_csv(url, sep=',', compression='gzip', parse_dates=parse_dates)\n",
    "print(f'Number of rows after appending {month}: {df.shape[0]}')\n",
    "print('-'*50)\n",
    "\n",
    "for month in months:\n",
    "    url = url_base + month + extension\n",
    "    print(f'Reading from: {url}')\n",
    "    df_current = pd.read_csv(url, sep=',', compression='gzip', parse_dates=parse_dates)\n",
    "    df = pd.concat([df, df_current], ignore_index=True)\n",
    "    print(f'Number of rows after appending {month}: {df.shape[0]}')\n",
    "    print('-'*50)\n",
    "    \n",
    "#     return df\n",
    "\n",
    "# @test\n",
    "# def test_output(output, *args) -> None:\n",
    "#     \"\"\"\n",
    "#     Template code for testing the output of the block.\n",
    "#     \"\"\"\n",
    "#     assert output is not None, 'The output is undefined'"
   ]
  },
  {
   "cell_type": "code",
   "execution_count": 6,
   "id": "37082128-03b7-4b2e-b7b3-e8b9160c073c",
   "metadata": {},
   "outputs": [
    {
     "name": "stdout",
     "output_type": "stream",
     "text": [
      "<class 'pandas.core.frame.DataFrame'>\n",
      "RangeIndex: 43244696 entries, 0 to 43244695\n",
      "Data columns (total 7 columns):\n",
      " #   Column                  Dtype         \n",
      "---  ------                  -----         \n",
      " 0   dispatching_base_num    object        \n",
      " 1   pickup_datetime         datetime64[ns]\n",
      " 2   dropOff_datetime        datetime64[ns]\n",
      " 3   PUlocationID            float64       \n",
      " 4   DOlocationID            float64       \n",
      " 5   SR_Flag                 float64       \n",
      " 6   Affiliated_base_number  object        \n",
      "dtypes: datetime64[ns](2), float64(3), object(2)\n",
      "memory usage: 2.3+ GB\n"
     ]
    }
   ],
   "source": [
    "df.info()"
   ]
  },
  {
   "cell_type": "code",
   "execution_count": 7,
   "id": "658d9ecd-3251-452b-905a-aea450b9ffcc",
   "metadata": {},
   "outputs": [],
   "source": [
    "df.to_parquet('data')"
   ]
  },
  {
   "cell_type": "code",
   "execution_count": 1,
   "id": "f0dc163c-1ea7-4c71-8892-93a05744afb5",
   "metadata": {},
   "outputs": [
    {
     "ename": "NameError",
     "evalue": "name 'df' is not defined",
     "output_type": "error",
     "traceback": [
      "\u001b[0;31m---------------------------------------------------------------------------\u001b[0m",
      "\u001b[0;31mNameError\u001b[0m                                 Traceback (most recent call last)",
      "Cell \u001b[0;32mIn[1], line 2\u001b[0m\n\u001b[1;32m      1\u001b[0m url \u001b[38;5;241m=\u001b[39m \u001b[38;5;124m'\u001b[39m\u001b[38;5;124mC://data\u001b[39m\u001b[38;5;124m'\u001b[39m\n\u001b[0;32m----> 2\u001b[0m \u001b[43mdf\u001b[49m\u001b[38;5;241m.\u001b[39mto_parquet(url)\n",
      "\u001b[0;31mNameError\u001b[0m: name 'df' is not defined"
     ]
    }
   ],
   "source": [
    "url = 'C:/data/nyc_fhv.parquet'"
   ]
  },
  {
   "cell_type": "code",
   "execution_count": null,
   "id": "bdb91e50-01da-4199-814e-f59b725ab003",
   "metadata": {},
   "outputs": [],
   "source": []
  }
 ],
 "metadata": {
  "kernelspec": {
   "display_name": "Python 3 (ipykernel)",
   "language": "python",
   "name": "python3"
  },
  "language_info": {
   "codemirror_mode": {
    "name": "ipython",
    "version": 3
   },
   "file_extension": ".py",
   "mimetype": "text/x-python",
   "name": "python",
   "nbconvert_exporter": "python",
   "pygments_lexer": "ipython3",
   "version": "3.10.13"
  }
 },
 "nbformat": 4,
 "nbformat_minor": 5
}
