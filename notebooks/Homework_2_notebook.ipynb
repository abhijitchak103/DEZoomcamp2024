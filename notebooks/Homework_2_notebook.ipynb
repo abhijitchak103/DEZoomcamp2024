{
 "cells": [
  {
   "cell_type": "code",
   "execution_count": 1,
   "id": "3bb140bc-01db-49d9-8193-e07892546aa3",
   "metadata": {},
   "outputs": [],
   "source": [
    "import pandas as pd"
   ]
  },
  {
   "cell_type": "code",
   "execution_count": 24,
   "id": "bd15e832-ee3a-4bf9-87b3-e868a4671aa0",
   "metadata": {},
   "outputs": [],
   "source": [
    "url = 'https://github.com/DataTalksClub/nyc-tlc-data/releases/download/green/green_tripdata_2020-10.csv.gz'"
   ]
  },
  {
   "cell_type": "code",
   "execution_count": 4,
   "id": "7657f0c0-6bc5-4e13-b574-ca481c130a71",
   "metadata": {},
   "outputs": [],
   "source": [
    "!mkdir data\n",
    "!cd data"
   ]
  },
  {
   "cell_type": "code",
   "execution_count": 8,
   "id": "d29c3f87-2f13-4cd2-af6f-56b533684e1b",
   "metadata": {},
   "outputs": [],
   "source": [
    "!cd .."
   ]
  },
  {
   "cell_type": "code",
   "execution_count": 9,
   "id": "3ad0a2be-0539-4261-9252-1d49db4d8fc2",
   "metadata": {},
   "outputs": [
    {
     "name": "stdout",
     "output_type": "stream",
     "text": [
      "/workspaces/DEZoomcamp2024/notebooks\n"
     ]
    }
   ],
   "source": [
    "!pwd"
   ]
  },
  {
   "cell_type": "code",
   "execution_count": 17,
   "id": "046c4733-39fe-4369-a47b-a1a23bf7faaf",
   "metadata": {},
   "outputs": [
    {
     "name": "stderr",
     "output_type": "stream",
     "text": [
      "/tmp/ipykernel_65338/666672216.py:1: DtypeWarning: Columns (3) have mixed types. Specify dtype option on import or set low_memory=False.\n",
      "  pd.read_csv(url, compression='gzip')\n"
     ]
    },
    {
     "data": {
      "text/html": [
       "<div>\n",
       "<style scoped>\n",
       "    .dataframe tbody tr th:only-of-type {\n",
       "        vertical-align: middle;\n",
       "    }\n",
       "\n",
       "    .dataframe tbody tr th {\n",
       "        vertical-align: top;\n",
       "    }\n",
       "\n",
       "    .dataframe thead th {\n",
       "        text-align: right;\n",
       "    }\n",
       "</style>\n",
       "<table border=\"1\" class=\"dataframe\">\n",
       "  <thead>\n",
       "    <tr style=\"text-align: right;\">\n",
       "      <th></th>\n",
       "      <th>VendorID</th>\n",
       "      <th>lpep_pickup_datetime</th>\n",
       "      <th>lpep_dropoff_datetime</th>\n",
       "      <th>store_and_fwd_flag</th>\n",
       "      <th>RatecodeID</th>\n",
       "      <th>PULocationID</th>\n",
       "      <th>DOLocationID</th>\n",
       "      <th>passenger_count</th>\n",
       "      <th>trip_distance</th>\n",
       "      <th>fare_amount</th>\n",
       "      <th>extra</th>\n",
       "      <th>mta_tax</th>\n",
       "      <th>tip_amount</th>\n",
       "      <th>tolls_amount</th>\n",
       "      <th>ehail_fee</th>\n",
       "      <th>improvement_surcharge</th>\n",
       "      <th>total_amount</th>\n",
       "      <th>payment_type</th>\n",
       "      <th>trip_type</th>\n",
       "      <th>congestion_surcharge</th>\n",
       "    </tr>\n",
       "  </thead>\n",
       "  <tbody>\n",
       "    <tr>\n",
       "      <th>0</th>\n",
       "      <td>2.0</td>\n",
       "      <td>2020-10-01 00:31:19</td>\n",
       "      <td>2020-10-01 00:34:55</td>\n",
       "      <td>N</td>\n",
       "      <td>1.0</td>\n",
       "      <td>7</td>\n",
       "      <td>7</td>\n",
       "      <td>1.0</td>\n",
       "      <td>0.79</td>\n",
       "      <td>5.00</td>\n",
       "      <td>0.5</td>\n",
       "      <td>0.5</td>\n",
       "      <td>1.58</td>\n",
       "      <td>0.0</td>\n",
       "      <td>NaN</td>\n",
       "      <td>0.3</td>\n",
       "      <td>7.88</td>\n",
       "      <td>1.0</td>\n",
       "      <td>1.0</td>\n",
       "      <td>0.0</td>\n",
       "    </tr>\n",
       "    <tr>\n",
       "      <th>1</th>\n",
       "      <td>2.0</td>\n",
       "      <td>2020-10-01 00:42:12</td>\n",
       "      <td>2020-10-01 00:43:51</td>\n",
       "      <td>N</td>\n",
       "      <td>1.0</td>\n",
       "      <td>179</td>\n",
       "      <td>7</td>\n",
       "      <td>1.0</td>\n",
       "      <td>0.50</td>\n",
       "      <td>4.00</td>\n",
       "      <td>0.5</td>\n",
       "      <td>0.5</td>\n",
       "      <td>0.00</td>\n",
       "      <td>0.0</td>\n",
       "      <td>NaN</td>\n",
       "      <td>0.3</td>\n",
       "      <td>5.30</td>\n",
       "      <td>2.0</td>\n",
       "      <td>1.0</td>\n",
       "      <td>0.0</td>\n",
       "    </tr>\n",
       "    <tr>\n",
       "      <th>2</th>\n",
       "      <td>2.0</td>\n",
       "      <td>2020-10-01 00:53:09</td>\n",
       "      <td>2020-10-01 00:55:39</td>\n",
       "      <td>N</td>\n",
       "      <td>1.0</td>\n",
       "      <td>179</td>\n",
       "      <td>223</td>\n",
       "      <td>1.0</td>\n",
       "      <td>0.60</td>\n",
       "      <td>4.00</td>\n",
       "      <td>0.5</td>\n",
       "      <td>0.5</td>\n",
       "      <td>1.06</td>\n",
       "      <td>0.0</td>\n",
       "      <td>NaN</td>\n",
       "      <td>0.3</td>\n",
       "      <td>6.36</td>\n",
       "      <td>1.0</td>\n",
       "      <td>1.0</td>\n",
       "      <td>0.0</td>\n",
       "    </tr>\n",
       "    <tr>\n",
       "      <th>3</th>\n",
       "      <td>1.0</td>\n",
       "      <td>2020-10-01 00:12:29</td>\n",
       "      <td>2020-10-01 00:20:08</td>\n",
       "      <td>N</td>\n",
       "      <td>1.0</td>\n",
       "      <td>134</td>\n",
       "      <td>216</td>\n",
       "      <td>2.0</td>\n",
       "      <td>4.40</td>\n",
       "      <td>13.50</td>\n",
       "      <td>0.5</td>\n",
       "      <td>0.5</td>\n",
       "      <td>0.00</td>\n",
       "      <td>0.0</td>\n",
       "      <td>NaN</td>\n",
       "      <td>0.3</td>\n",
       "      <td>14.80</td>\n",
       "      <td>2.0</td>\n",
       "      <td>1.0</td>\n",
       "      <td>0.0</td>\n",
       "    </tr>\n",
       "    <tr>\n",
       "      <th>4</th>\n",
       "      <td>1.0</td>\n",
       "      <td>2020-10-01 00:32:38</td>\n",
       "      <td>2020-10-01 00:43:02</td>\n",
       "      <td>N</td>\n",
       "      <td>1.0</td>\n",
       "      <td>82</td>\n",
       "      <td>7</td>\n",
       "      <td>1.0</td>\n",
       "      <td>2.90</td>\n",
       "      <td>10.50</td>\n",
       "      <td>0.5</td>\n",
       "      <td>0.5</td>\n",
       "      <td>0.00</td>\n",
       "      <td>0.0</td>\n",
       "      <td>NaN</td>\n",
       "      <td>0.3</td>\n",
       "      <td>11.80</td>\n",
       "      <td>2.0</td>\n",
       "      <td>1.0</td>\n",
       "      <td>0.0</td>\n",
       "    </tr>\n",
       "    <tr>\n",
       "      <th>...</th>\n",
       "      <td>...</td>\n",
       "      <td>...</td>\n",
       "      <td>...</td>\n",
       "      <td>...</td>\n",
       "      <td>...</td>\n",
       "      <td>...</td>\n",
       "      <td>...</td>\n",
       "      <td>...</td>\n",
       "      <td>...</td>\n",
       "      <td>...</td>\n",
       "      <td>...</td>\n",
       "      <td>...</td>\n",
       "      <td>...</td>\n",
       "      <td>...</td>\n",
       "      <td>...</td>\n",
       "      <td>...</td>\n",
       "      <td>...</td>\n",
       "      <td>...</td>\n",
       "      <td>...</td>\n",
       "      <td>...</td>\n",
       "    </tr>\n",
       "    <tr>\n",
       "      <th>95115</th>\n",
       "      <td>NaN</td>\n",
       "      <td>2020-10-19 14:28:00</td>\n",
       "      <td>2020-10-19 14:46:00</td>\n",
       "      <td>NaN</td>\n",
       "      <td>NaN</td>\n",
       "      <td>130</td>\n",
       "      <td>70</td>\n",
       "      <td>NaN</td>\n",
       "      <td>6.29</td>\n",
       "      <td>27.70</td>\n",
       "      <td>0.0</td>\n",
       "      <td>0.0</td>\n",
       "      <td>2.75</td>\n",
       "      <td>0.0</td>\n",
       "      <td>NaN</td>\n",
       "      <td>0.3</td>\n",
       "      <td>30.75</td>\n",
       "      <td>NaN</td>\n",
       "      <td>NaN</td>\n",
       "      <td>NaN</td>\n",
       "    </tr>\n",
       "    <tr>\n",
       "      <th>95116</th>\n",
       "      <td>NaN</td>\n",
       "      <td>2020-10-19 14:57:00</td>\n",
       "      <td>2020-10-19 15:21:00</td>\n",
       "      <td>NaN</td>\n",
       "      <td>NaN</td>\n",
       "      <td>13</td>\n",
       "      <td>42</td>\n",
       "      <td>NaN</td>\n",
       "      <td>11.42</td>\n",
       "      <td>41.11</td>\n",
       "      <td>0.0</td>\n",
       "      <td>0.0</td>\n",
       "      <td>2.75</td>\n",
       "      <td>0.0</td>\n",
       "      <td>NaN</td>\n",
       "      <td>0.3</td>\n",
       "      <td>44.16</td>\n",
       "      <td>NaN</td>\n",
       "      <td>NaN</td>\n",
       "      <td>NaN</td>\n",
       "    </tr>\n",
       "    <tr>\n",
       "      <th>95117</th>\n",
       "      <td>NaN</td>\n",
       "      <td>2020-10-19 14:01:00</td>\n",
       "      <td>2020-10-19 14:13:00</td>\n",
       "      <td>NaN</td>\n",
       "      <td>NaN</td>\n",
       "      <td>61</td>\n",
       "      <td>62</td>\n",
       "      <td>NaN</td>\n",
       "      <td>1.33</td>\n",
       "      <td>16.73</td>\n",
       "      <td>0.0</td>\n",
       "      <td>0.0</td>\n",
       "      <td>2.75</td>\n",
       "      <td>0.0</td>\n",
       "      <td>NaN</td>\n",
       "      <td>0.3</td>\n",
       "      <td>19.78</td>\n",
       "      <td>NaN</td>\n",
       "      <td>NaN</td>\n",
       "      <td>NaN</td>\n",
       "    </tr>\n",
       "    <tr>\n",
       "      <th>95118</th>\n",
       "      <td>NaN</td>\n",
       "      <td>2020-10-19 14:53:00</td>\n",
       "      <td>2020-10-19 14:59:00</td>\n",
       "      <td>NaN</td>\n",
       "      <td>NaN</td>\n",
       "      <td>205</td>\n",
       "      <td>10</td>\n",
       "      <td>NaN</td>\n",
       "      <td>1.40</td>\n",
       "      <td>18.58</td>\n",
       "      <td>0.0</td>\n",
       "      <td>0.0</td>\n",
       "      <td>2.75</td>\n",
       "      <td>0.0</td>\n",
       "      <td>NaN</td>\n",
       "      <td>0.3</td>\n",
       "      <td>21.63</td>\n",
       "      <td>NaN</td>\n",
       "      <td>NaN</td>\n",
       "      <td>NaN</td>\n",
       "    </tr>\n",
       "    <tr>\n",
       "      <th>95119</th>\n",
       "      <td>NaN</td>\n",
       "      <td>2020-10-19 14:22:00</td>\n",
       "      <td>2020-10-19 15:02:00</td>\n",
       "      <td>NaN</td>\n",
       "      <td>NaN</td>\n",
       "      <td>106</td>\n",
       "      <td>14</td>\n",
       "      <td>NaN</td>\n",
       "      <td>4.60</td>\n",
       "      <td>25.79</td>\n",
       "      <td>0.0</td>\n",
       "      <td>0.0</td>\n",
       "      <td>2.75</td>\n",
       "      <td>0.0</td>\n",
       "      <td>NaN</td>\n",
       "      <td>0.3</td>\n",
       "      <td>28.84</td>\n",
       "      <td>NaN</td>\n",
       "      <td>NaN</td>\n",
       "      <td>NaN</td>\n",
       "    </tr>\n",
       "  </tbody>\n",
       "</table>\n",
       "<p>95120 rows × 20 columns</p>\n",
       "</div>"
      ],
      "text/plain": [
       "       VendorID lpep_pickup_datetime lpep_dropoff_datetime store_and_fwd_flag  \\\n",
       "0           2.0  2020-10-01 00:31:19   2020-10-01 00:34:55                  N   \n",
       "1           2.0  2020-10-01 00:42:12   2020-10-01 00:43:51                  N   \n",
       "2           2.0  2020-10-01 00:53:09   2020-10-01 00:55:39                  N   \n",
       "3           1.0  2020-10-01 00:12:29   2020-10-01 00:20:08                  N   \n",
       "4           1.0  2020-10-01 00:32:38   2020-10-01 00:43:02                  N   \n",
       "...         ...                  ...                   ...                ...   \n",
       "95115       NaN  2020-10-19 14:28:00   2020-10-19 14:46:00                NaN   \n",
       "95116       NaN  2020-10-19 14:57:00   2020-10-19 15:21:00                NaN   \n",
       "95117       NaN  2020-10-19 14:01:00   2020-10-19 14:13:00                NaN   \n",
       "95118       NaN  2020-10-19 14:53:00   2020-10-19 14:59:00                NaN   \n",
       "95119       NaN  2020-10-19 14:22:00   2020-10-19 15:02:00                NaN   \n",
       "\n",
       "       RatecodeID  PULocationID  DOLocationID  passenger_count  trip_distance  \\\n",
       "0             1.0             7             7              1.0           0.79   \n",
       "1             1.0           179             7              1.0           0.50   \n",
       "2             1.0           179           223              1.0           0.60   \n",
       "3             1.0           134           216              2.0           4.40   \n",
       "4             1.0            82             7              1.0           2.90   \n",
       "...           ...           ...           ...              ...            ...   \n",
       "95115         NaN           130            70              NaN           6.29   \n",
       "95116         NaN            13            42              NaN          11.42   \n",
       "95117         NaN            61            62              NaN           1.33   \n",
       "95118         NaN           205            10              NaN           1.40   \n",
       "95119         NaN           106            14              NaN           4.60   \n",
       "\n",
       "       fare_amount  extra  mta_tax  tip_amount  tolls_amount  ehail_fee  \\\n",
       "0             5.00    0.5      0.5        1.58           0.0        NaN   \n",
       "1             4.00    0.5      0.5        0.00           0.0        NaN   \n",
       "2             4.00    0.5      0.5        1.06           0.0        NaN   \n",
       "3            13.50    0.5      0.5        0.00           0.0        NaN   \n",
       "4            10.50    0.5      0.5        0.00           0.0        NaN   \n",
       "...            ...    ...      ...         ...           ...        ...   \n",
       "95115        27.70    0.0      0.0        2.75           0.0        NaN   \n",
       "95116        41.11    0.0      0.0        2.75           0.0        NaN   \n",
       "95117        16.73    0.0      0.0        2.75           0.0        NaN   \n",
       "95118        18.58    0.0      0.0        2.75           0.0        NaN   \n",
       "95119        25.79    0.0      0.0        2.75           0.0        NaN   \n",
       "\n",
       "       improvement_surcharge  total_amount  payment_type  trip_type  \\\n",
       "0                        0.3          7.88           1.0        1.0   \n",
       "1                        0.3          5.30           2.0        1.0   \n",
       "2                        0.3          6.36           1.0        1.0   \n",
       "3                        0.3         14.80           2.0        1.0   \n",
       "4                        0.3         11.80           2.0        1.0   \n",
       "...                      ...           ...           ...        ...   \n",
       "95115                    0.3         30.75           NaN        NaN   \n",
       "95116                    0.3         44.16           NaN        NaN   \n",
       "95117                    0.3         19.78           NaN        NaN   \n",
       "95118                    0.3         21.63           NaN        NaN   \n",
       "95119                    0.3         28.84           NaN        NaN   \n",
       "\n",
       "       congestion_surcharge  \n",
       "0                       0.0  \n",
       "1                       0.0  \n",
       "2                       0.0  \n",
       "3                       0.0  \n",
       "4                       0.0  \n",
       "...                     ...  \n",
       "95115                   NaN  \n",
       "95116                   NaN  \n",
       "95117                   NaN  \n",
       "95118                   NaN  \n",
       "95119                   NaN  \n",
       "\n",
       "[95120 rows x 20 columns]"
      ]
     },
     "execution_count": 17,
     "metadata": {},
     "output_type": "execute_result"
    }
   ],
   "source": [
    "pd.read_csv(url, compression='gzip')"
   ]
  },
  {
   "cell_type": "code",
   "execution_count": 18,
   "id": "951caec2-b66c-4934-a776-894e182084f9",
   "metadata": {},
   "outputs": [],
   "source": [
    "taxi_dtypes = {\n",
    "    'VendorID': pd.Int64Dtype(),\n",
    "    'passenger_count': pd.Int64Dtype(),\n",
    "    'trip_distance': float,\n",
    "    'RatecodeID': pd.Int64Dtype(),\n",
    "    'store_and_fwd_flag': str,\n",
    "    'PULocationID': pd.Int64Dtype(),\n",
    "    'DOLocationID': pd.Int64Dtype(),\n",
    "    'payment_type': pd.Int64Dtype(),\n",
    "    'fare_amount': float,\n",
    "    'extra': float,\n",
    "    'mta_tax': float,\n",
    "    'tip_amount': float,\n",
    "    'tolls_amount': float,\n",
    "    'improvement_surcharge': float,\n",
    "    'total_amount': float,\n",
    "    'congestion_surcharge': float \n",
    "}\n",
    "\n",
    "parse_dates = ['lpep_pickup_datetime', 'lpep_dropoff_datetime']"
   ]
  },
  {
   "cell_type": "code",
   "execution_count": 57,
   "id": "3b67c640-891e-4dbf-a796-bd2762713b4b",
   "metadata": {},
   "outputs": [
    {
     "name": "stderr",
     "output_type": "stream",
     "text": [
      "/tmp/ipykernel_65338/1442617007.py:3: DtypeWarning: Columns (3) have mixed types. Specify dtype option on import or set low_memory=False.\n",
      "  df = pd.read_csv(url,\n",
      "/tmp/ipykernel_65338/1442617007.py:13: DtypeWarning: Columns (3) have mixed types. Specify dtype option on import or set low_memory=False.\n",
      "  df_new = pd.read_csv(url,\n"
     ]
    },
    {
     "name": "stdout",
     "output_type": "stream",
     "text": [
      "(183725, 20)\n",
      "(266855, 20)\n"
     ]
    },
    {
     "name": "stderr",
     "output_type": "stream",
     "text": [
      "/tmp/ipykernel_65338/1442617007.py:13: DtypeWarning: Columns (3) have mixed types. Specify dtype option on import or set low_memory=False.\n",
      "  df_new = pd.read_csv(url,\n"
     ]
    }
   ],
   "source": [
    "url = 'https://github.com/DataTalksClub/nyc-tlc-data/releases/download/green/green_tripdata_2020-10.csv.gz'\n",
    "\n",
    "df = pd.read_csv(url,\n",
    "                 sep=',',\n",
    "                 compression='gzip',\n",
    "                 parse_dates=parse_dates,\n",
    "                )\n",
    "\n",
    "df_final = pd.DataFrame()\n",
    "\n",
    "for x in ['11', '12']:\n",
    "    url = 'https://github.com/DataTalksClub/nyc-tlc-data/releases/download/green/green_tripdata_2020-' + x + '.csv.gz'\n",
    "    df_new = pd.read_csv(url,\n",
    "                 sep=',',\n",
    "                 compression='gzip',\n",
    "                 parse_dates=parse_dates,\n",
    "                )\n",
    "    df = pd.concat([df, df_new], ignore_index=True)\n",
    "    print(df.shape)"
   ]
  },
  {
   "cell_type": "code",
   "execution_count": 58,
   "id": "a581f676-7c61-4f48-914b-92756f05f864",
   "metadata": {},
   "outputs": [
    {
     "data": {
      "text/plain": [
       "(266855, 20)"
      ]
     },
     "execution_count": 58,
     "metadata": {},
     "output_type": "execute_result"
    }
   ],
   "source": [
    "df.shape"
   ]
  },
  {
   "cell_type": "code",
   "execution_count": 59,
   "id": "9ea9ddee-d059-48a1-9387-704b2f91b5f2",
   "metadata": {},
   "outputs": [],
   "source": [
    "df = df[df['passenger_count'] > 0]"
   ]
  },
  {
   "cell_type": "code",
   "execution_count": 60,
   "id": "6a6e90f3-10d1-4d7b-b951-9866a3c27661",
   "metadata": {},
   "outputs": [],
   "source": [
    "df = df[df['trip_distance'] > 0]"
   ]
  },
  {
   "cell_type": "code",
   "execution_count": 61,
   "id": "2958b94a-d3da-41b0-8aa7-d4b4d3bf34ee",
   "metadata": {},
   "outputs": [
    {
     "data": {
      "text/plain": [
       "(139370, 20)"
      ]
     },
     "execution_count": 61,
     "metadata": {},
     "output_type": "execute_result"
    }
   ],
   "source": [
    "df.shape"
   ]
  },
  {
   "cell_type": "code",
   "execution_count": 63,
   "id": "dce64ca5-2d84-4855-b760-022a26d5c561",
   "metadata": {},
   "outputs": [
    {
     "data": {
      "text/plain": [
       "array([2., 1.])"
      ]
     },
     "execution_count": 63,
     "metadata": {},
     "output_type": "execute_result"
    }
   ],
   "source": [
    "df.VendorID.unique()"
   ]
  },
  {
   "cell_type": "code",
   "execution_count": 64,
   "id": "2e2eba00-b216-4f7b-98aa-5a1749e2c1a5",
   "metadata": {},
   "outputs": [],
   "source": [
    "df['date'] = df['lpep_pickup_datetime'].dt.date"
   ]
  },
  {
   "cell_type": "code",
   "execution_count": 65,
   "id": "5ffaee2d-0efe-4916-b644-fc769315d88e",
   "metadata": {},
   "outputs": [
    {
     "data": {
      "text/plain": [
       "95"
      ]
     },
     "execution_count": 65,
     "metadata": {},
     "output_type": "execute_result"
    }
   ],
   "source": [
    "df.date.nunique()"
   ]
  },
  {
   "cell_type": "code",
   "execution_count": 66,
   "id": "2786869e-8e5c-4e41-bb9a-d8275194fbbd",
   "metadata": {},
   "outputs": [
    {
     "data": {
      "text/plain": [
       "Index(['VendorID', 'lpep_pickup_datetime', 'lpep_dropoff_datetime',\n",
       "       'store_and_fwd_flag', 'RatecodeID', 'PULocationID', 'DOLocationID',\n",
       "       'passenger_count', 'trip_distance', 'fare_amount', 'extra', 'mta_tax',\n",
       "       'tip_amount', 'tolls_amount', 'ehail_fee', 'improvement_surcharge',\n",
       "       'total_amount', 'payment_type', 'trip_type', 'congestion_surcharge',\n",
       "       'date'],\n",
       "      dtype='object')"
      ]
     },
     "execution_count": 66,
     "metadata": {},
     "output_type": "execute_result"
    }
   ],
   "source": [
    "df.columns"
   ]
  },
  {
   "cell_type": "code",
   "execution_count": null,
   "id": "53979222-a084-4c88-ab31-9c747fa9f054",
   "metadata": {},
   "outputs": [],
   "source": []
  }
 ],
 "metadata": {
  "kernelspec": {
   "display_name": "Python 3 (ipykernel)",
   "language": "python",
   "name": "python3"
  },
  "language_info": {
   "codemirror_mode": {
    "name": "ipython",
    "version": 3
   },
   "file_extension": ".py",
   "mimetype": "text/x-python",
   "name": "python",
   "nbconvert_exporter": "python",
   "pygments_lexer": "ipython3",
   "version": "3.10.13"
  }
 },
 "nbformat": 4,
 "nbformat_minor": 5
}
